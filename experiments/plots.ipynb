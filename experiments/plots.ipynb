{
 "cells": [
  {
   "cell_type": "code",
   "execution_count": null,
   "metadata": {},
   "outputs": [],
   "source": [
    "import sys\n",
    "\n",
    "import matplotlib.pyplot as plt\n",
    "import numpy as np\n",
    "import yaml\n",
    "\n",
    "sys.path.append(\"../\")\n",
    "from globals import ACCURACY_METRICS, UNCERTAINTY_METRICS\n",
    "from probabilistic.HMC.adv_robust_dp_hmc import AdvHamiltonianMonteCarlo\n",
    "from probabilistic.HMC.hyperparams import HyperparamsHMC\n",
    "from probabilistic.HMC.vanilla_bnn import VanillaBnnMnist\n",
    "from common.dataset_utils import load_mnist\n",
    "from globals import TORCH_DEVICE\n",
    "from experiment_utils import test_ibp_acc_from_file"
   ]
  },
  {
   "cell_type": "code",
   "execution_count": null,
   "metadata": {},
   "outputs": [],
   "source": [
    "\n",
    "#! 5 different models: dnn_sgd, hmc, fgsm_hmc, pgd_hmc, ibp_hmc\n",
    "#! 8 metrics: std_acc, fgsm_acc, pgd_acc, ibp_acc, in_distrib_auroc, in_distrib_ece, ood_auroc, ood_ece\n",
    "#? maybe privacy?\n",
    "def plot_metrics_for_adv_comparison(dataset_name: str = \"MNIST\", metric_type = \"accuracy\"):\n",
    "    # now fill them up with the results from the yaml file\n",
    "    print(type(globals()['_dh'][0]))\n",
    "    adv_results_file = str(globals()['_dh'][0]) + \"/results_adv.yaml\"\n",
    "    experiments_results = None\n",
    "    with open(adv_results_file, 'r', encoding=\"utf-8\") as file:\n",
    "        experiments_results = yaml.safe_load(file)[dataset_name]\n",
    "\n",
    "    models = list(experiments_results.keys())\n",
    "    positions = np.arange(0, len(models), 1)\n",
    "    colors = [\"#d46d3d\", \"#e3c268\", \"#ccf56e\", \"#64d199\", \"#68a0e3\"]\n",
    "    hlines = np.arange(0, 1.1, 0.1)\n",
    "\n",
    "    desired_metrics = ACCURACY_METRICS if metric_type == \"accuracy\" else UNCERTAINTY_METRICS\n",
    "\n",
    "    fig, ax = plt.subplots(2, 2, figsize=(30, 20), constrained_layout=True)\n",
    "    for idx, metric in enumerate(desired_metrics):\n",
    "        row, col = idx // 2, idx % 2\n",
    "        heights = [experiments_results[model][metric] for model in models]\n",
    "        ax[row, col].bar(positions, height=heights, width=0.5, align='center', color=colors, tick_label=models, alpha=0.9)\n",
    "        ax[row, col].set_ylim(0, 1)\n",
    "        ax[row, col].set_yticks(hlines)\n",
    "        ax[row, col].hlines(hlines, -0.5, len(models) - 1 + 0.5, colors=\"gray\", alpha=0.3)\n",
    "        ax[row, col].set_title(metric)\n",
    "        ax[row, col].set_ylabel(\"Accuracy\")\n",
    "        ax[row, col].set_xlabel(\"Training method\")\n",
    "\n",
    "    fig.show()\n",
    "    plt.show()"
   ]
  },
  {
   "cell_type": "code",
   "execution_count": null,
   "metadata": {},
   "outputs": [],
   "source": [
    "plot_metrics_for_adv_comparison(\"MNIST\")"
   ]
  },
  {
   "cell_type": "code",
   "execution_count": null,
   "metadata": {},
   "outputs": [],
   "source": [
    "plot_metrics_for_adv_comparison(\"MNIST\", \"uncertainty\")"
   ]
  },
  {
   "cell_type": "code",
   "execution_count": null,
   "metadata": {},
   "outputs": [],
   "source": [
    "vanilla_bnn = VanillaBnnMnist().to(TORCH_DEVICE)\n",
    "train_data, test_data = load_mnist()\n",
    "hyperparams = HyperparamsHMC(num_epochs=25, num_burnin_epochs=0, step_size=1e-2, warmup_step_size=0.2, lf_steps=120, batch_size=500, momentum_std=0.001,\n",
    "                             alpha=0.5, eps=0.1, decay_epoch_start=20, lr_decay_magnitude=0.1, eps_warmup_epochs=0, alpha_warmup_epochs=0, run_dp=False)\n",
    "hmc = AdvHamiltonianMonteCarlo(vanilla_bnn, hyperparams)\n",
    "epsilons = [x / 10 for x in range(0, 1, 0.1)]\n",
    "accs = test_ibp_acc_from_file(hmc, test_data, \"posterior_samples/hmc_ibp.npy\", epsilons)"
   ]
  }
 ],
 "metadata": {
  "kernelspec": {
   "display_name": "base",
   "language": "python",
   "name": "python3"
  },
  "language_info": {
   "codemirror_mode": {
    "name": "ipython",
    "version": 3
   },
   "file_extension": ".py",
   "mimetype": "text/x-python",
   "name": "python",
   "nbconvert_exporter": "python",
   "pygments_lexer": "ipython3",
   "version": "3.11.5"
  }
 },
 "nbformat": 4,
 "nbformat_minor": 2
}
