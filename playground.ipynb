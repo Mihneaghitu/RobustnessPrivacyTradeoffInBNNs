{
 "cells": [
  {
   "cell_type": "code",
   "execution_count": null,
   "metadata": {},
   "outputs": [],
   "source": [
    "from main import load_mnist\n",
    "import torch\n",
    "import torchvision"
   ]
  },
  {
   "cell_type": "code",
   "execution_count": null,
   "metadata": {},
   "outputs": [],
   "source": [
    "from deterministic.vanilla_net import VanillaNetLinear\n",
    "from probabilistic.distribution_utils import to_discrete_distribution\n",
    "from globals import TORCH_DEVICE\n",
    "import numpy as np\n",
    "import matplotlib.pyplot as plt\n",
    "\n",
    "is_cuda_available = torch.cuda.is_available()\n",
    "device = TORCH_DEVICE\n",
    "print(device)\n",
    "vanilla_net = VanillaNetLinear()\n",
    "# Get all the initial weights and plot their distribution\n",
    "default_weights = np.array([])\n",
    "for param in vanilla_net.named_parameters():\n",
    "    if 'weight' in param[0]:\n",
    "        w = param[1].view(-1)\n",
    "        default_weights = np.concatenate((default_weights, w.detach().numpy()), axis=None)\n",
    "print(max(default_weights))\n",
    "\n",
    "custom_weights = np.array([])\n",
    "for param in vanilla_net.named_parameters():\n",
    "    if 'weight' in param[0]:\n",
    "        init_vals = torch.normal(mean=0.0, std=0.05, size=tuple(param[1].shape)).to(device)\n",
    "        param[1].data = torch.nn.parameter.Parameter(init_vals)\n",
    "        w = param[1].view(-1)\n",
    "        custom_weights = np.concatenate((custom_weights, w.cpu().detach().numpy()), axis=None)\n",
    "\n",
    "domain_values_default, range_values_default = to_discrete_distribution(default_weights)\n",
    "domain_values_custom, range_values_custom = to_discrete_distribution(custom_weights)\n",
    "fig, axs = plt.subplots(1, 2, figsize=(14, 6))\n",
    "axs[0].plot(domain_values_default, range_values_default)\n",
    "#axs[0].hist(default_weights, bins=100)\n",
    "axs[0].set_title('Default weights')\n",
    "axs[1].plot(domain_values_custom, range_values_custom)\n",
    "#axs[1].hist(custom_weights, bins=100)\n",
    "axs[1].set_title('Custom weights')"
   ]
  },
  {
   "cell_type": "code",
   "execution_count": null,
   "metadata": {},
   "outputs": [],
   "source": [
    "from scipy.stats import gaussian_kde\n",
    "\n",
    "# Now in a similar way plot the weights distribution after training\n",
    "trained_vanilla_net = VanillaNetLinear()\n",
    "trained_vanilla_net.load_state_dict(torch.load('vanilla_network.pt'))\n",
    "trained_vanilla_net.to(device)\n",
    "trained_vanilla_net.eval()\n",
    "\n",
    "\n",
    "optimized_weights = np.array([])\n",
    "for param in trained_vanilla_net.named_parameters():\n",
    "    if 'weight' in param[0]:\n",
    "        w = param[1].view(-1)\n",
    "        optimized_weights = np.concatenate((optimized_weights, w.cpu().detach().numpy()), axis=None)\n",
    "\n",
    "# first fit a distribution to the data\n",
    "density = gaussian_kde(optimized_weights)\n",
    "\n",
    "domain_values_optimized, range_values_optimized = to_discrete_distribution(optimized_weights)\n",
    "fig, axs = plt.subplots(1, 2, figsize=(14, 6))\n",
    "axs[0].plot(domain_values_optimized, range_values_optimized)\n",
    "# axs[0].hist(optimized_weights, bins=500)\n",
    "cts_domain = np.linspace(np.min(domain_values_optimized), np.max(domain_values_optimized), 200)\n",
    "axs[1].plot(cts_domain, density(cts_domain), 'k', linewidth=2)"
   ]
  },
  {
   "cell_type": "code",
   "execution_count": null,
   "metadata": {},
   "outputs": [],
   "source": []
  }
 ],
 "metadata": {
  "kernelspec": {
   "display_name": "base",
   "language": "python",
   "name": "python3"
  },
  "language_info": {
   "codemirror_mode": {
    "name": "ipython",
    "version": 3
   },
   "file_extension": ".py",
   "mimetype": "text/x-python",
   "name": "python",
   "nbconvert_exporter": "python",
   "pygments_lexer": "ipython3",
   "version": "3.11.5"
  }
 },
 "nbformat": 4,
 "nbformat_minor": 2
}
