{
 "cells": [
  {
   "cell_type": "code",
   "execution_count": null,
   "metadata": {},
   "outputs": [],
   "source": [
    "from main import load_mnist\n",
    "import torch\n",
    "import torchvision"
   ]
  },
  {
   "cell_type": "code",
   "execution_count": null,
   "metadata": {},
   "outputs": [],
   "source": [
    "from deterministic.vanilla_net import VanillaCNN\n",
    "from probabilistic.distribution_utils import to_discrete_distribution\n",
    "import numpy as np\n",
    "import matplotlib.pyplot as plt\n",
    "\n",
    "is_cuda_available = torch.cuda.is_available()\n",
    "device = torch.device('cuda:0' if is_cuda_available else 'cpu')\n",
    "vanilla_net = VanillaCNN()\n",
    "# Get all the initial weights and plot their distribution\n",
    "default_weights = np.array([])\n",
    "for param in vanilla_net.named_parameters():\n",
    "    if 'weight' in param[0]:\n",
    "        w = param[1].view(-1)\n",
    "        default_weights = np.concatenate((default_weights, w.detach().numpy()), axis=None)\n",
    "print(max(default_weights))\n",
    "\n",
    "custom_weights = np.array([])\n",
    "for param in vanilla_net.named_parameters():\n",
    "    if 'weight' in param[0]:\n",
    "        init_vals = torch.normal(mean=0.0, std=0.05, size=tuple(param[1].shape)).to(device)\n",
    "        param[1].data = torch.nn.parameter.Parameter(init_vals)\n",
    "        w = param[1].view(-1)\n",
    "        custom_weights = np.concatenate((custom_weights, w.detach().numpy()), axis=None)\n",
    "\n",
    "domain_values_default, range_values_default = to_discrete_distribution(default_weights)\n",
    "domain_values_custom, range_values_custom = to_discrete_distribution(custom_weights)\n",
    "fig, axs = plt.subplots(1, 2, figsize=(14, 6))\n",
    "axs[0].plot(domain_values_default, range_values_default)\n",
    "#axs[0].hist(default_weights, bins=100)\n",
    "axs[0].set_title('Default weights')\n",
    "axs[1].plot(domain_values_custom, range_values_custom)\n",
    "#axs[1].hist(custom_weights, bins=100)\n",
    "axs[1].set_title('Custom weights')"
   ]
  },
  {
   "cell_type": "code",
   "execution_count": null,
   "metadata": {},
   "outputs": [],
   "source": [
    "from scipy.stats import gaussian_kde\n",
    "\n",
    "# Now in a similar way plot the weights distribution after training\n",
    "trained_vanilla_net = VanillaCNN()\n",
    "trained_vanilla_net.load_state_dict(torch.load('vanilla_network.pt'))\n",
    "trained_vanilla_net.to(device)\n",
    "trained_vanilla_net.eval()\n",
    "\n",
    "\n",
    "optimized_weights = np.array([])\n",
    "for param in trained_vanilla_net.named_parameters():\n",
    "    if 'weight' in param[0]:\n",
    "        w = param[1].view(-1)\n",
    "        optimized_weights = np.concatenate((optimized_weights, w.detach().numpy()), axis=None)\n",
    "\n",
    "# first fit a distribution to the data\n",
    "density = gaussian_kde(optimized_weights)\n",
    "\n",
    "domain_values_optimized, range_values_optimized = to_discrete_distribution(optimized_weights)\n",
    "fig, axs = plt.subplots(1, 2, figsize=(14, 6))\n",
    "axs[0].plot(domain_values_optimized, range_values_optimized)\n",
    "# axs[0].hist(optimized_weights, bins=500)\n",
    "cts_domain = np.linspace(np.min(domain_values_optimized), np.max(domain_values_optimized), 200)\n",
    "axs[1].plot(cts_domain, density(cts_domain), 'k', linewidth=2)"
   ]
  },
  {
   "cell_type": "code",
   "execution_count": null,
   "metadata": {},
   "outputs": [],
   "source": [
    "import probabilistic.models as models\n",
    "import probabilistic.hamiltonian as ham\n",
    "import probabilistic.pipeline as pipeline\n",
    "import importlib\n",
    "importlib.reload(models)\n",
    "importlib.reload(ham)\n",
    "importlib.reload(pipeline)\n",
    "from probabilistic.models import WeightModel\n",
    "from probabilistic.hamiltonian import Hamiltonian\n",
    "from probabilistic.pipeline import hmc\n",
    "\n",
    "num_variational_params = 2\n",
    "theta_prior_mean, theta_prior_cov = torch.zeros(num_variational_params), torch.eye(num_variational_params)\n",
    "weight_probabilistic_model = WeightModel(prior_mean=theta_prior_mean, prior_variance=theta_prior_cov, low=-0.5, high=0.5)\n",
    "theta_prior = weight_probabilistic_model.uniform_prior\n",
    "theta_ll = weight_probabilistic_model.parameterized_gaussian_likelihood\n",
    "\n",
    "momentum_variances = torch.ones(num_variational_params) # mean and variance in our case\n",
    "hamiltonian = Hamiltonian(theta_prior, theta_ll, momentum_variances, torch.tensor(optimized_weights))\n",
    "\n",
    "variational_params_samples = hmc(hamiltonian)\n",
    "variational_params_samples"
   ]
  },
  {
   "cell_type": "code",
   "execution_count": null,
   "metadata": {},
   "outputs": [],
   "source": [
    "samples = [(float(tns[0]), float(tns[1])) for _, tns in enumerate(variational_params_samples)]\n",
    "mus, sigma2s = zip(*samples)\n",
    "mus, sigma2s = np.array(mus), np.array(sigma2s)\n",
    "mus, sigma2s"
   ]
  },
  {
   "cell_type": "code",
   "execution_count": null,
   "metadata": {},
   "outputs": [],
   "source": [
    "# compute the mean and variance uniased estimates\n",
    "mean_estimate = np.mean(mus)\n",
    "sigma2_estimate = np.sum(sigma2s) / (len(sigma2s) - 1) # unbiased estimate\n",
    "\n",
    "mean_estimate, sigma2_estimate"
   ]
  },
  {
   "cell_type": "code",
   "execution_count": null,
   "metadata": {},
   "outputs": [],
   "source": [
    "# sample from normal distribution with the above mean and variance\n",
    "from scipy.stats import norm\n",
    "# hmc_weights = np.random.normal(loc=mean_estimate, scale=np.sqrt(sigma2_estimate), size=optimized_weights.shape)\n",
    "print(max(range_values_optimized))\n",
    "fig, axs = plt.subplots(1, 2, figsize=(14, 6))\n",
    "axs[0].plot(domain_values_optimized, range_values_optimized)\n",
    "# axs[0].hist(optimized_weights, bins=500)\n",
    "cts_domain = np.linspace(-1, 1, 400)\n",
    "axs[1].plot(cts_domain, norm.pdf(cts_domain, mean_estimate, np.sqrt(sigma2_estimate)), 'k', linewidth=2)"
   ]
  },
  {
   "cell_type": "code",
   "execution_count": null,
   "metadata": {},
   "outputs": [],
   "source": []
  }
 ],
 "metadata": {
  "kernelspec": {
   "display_name": "base",
   "language": "python",
   "name": "python3"
  },
  "language_info": {
   "codemirror_mode": {
    "name": "ipython",
    "version": 3
   },
   "file_extension": ".py",
   "mimetype": "text/x-python",
   "name": "python",
   "nbconvert_exporter": "python",
   "pygments_lexer": "ipython3",
   "version": "3.10.13"
  }
 },
 "nbformat": 4,
 "nbformat_minor": 2
}
